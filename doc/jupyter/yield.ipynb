{
 "cells": [
  {
   "cell_type": "code",
   "execution_count": 44,
   "metadata": {
    "collapsed": false
   },
   "outputs": [],
   "source": [
    "def consumer():\n",
    "    r = 'consumer init'\n",
    "    while True:\n",
    "        print('step1:r=%s'%r)\n",
    "        n = yield r   #yield r 是表达式，该表达式的值是send（）传入的参数\n",
    "        print('step2:r=%s; n=%s'%(r,n))\n",
    "        if not n:\n",
    "              print('abc')\n",
    "              return 'abc'\n",
    "        print('[CONSUMER] Consuming %s...' % n)\n",
    "        r = '200 OK'"
   ]
  },
  {
   "cell_type": "code",
   "execution_count": 28,
   "metadata": {
    "collapsed": false
   },
   "outputs": [
    {
     "name": "stdout",
     "output_type": "stream",
     "text": [
      "step1:r=consumer init\n",
      "*************************\n",
      "step2:r=consumer init; n=hello\n",
      "[CONSUMER] Consuming hello...\n",
      "step1:r=200 OK\n",
      "*************************\n",
      "step2:r=200 OK; n=world\n",
      "[CONSUMER] Consuming world...\n",
      "step1:r=200 OK\n"
     ]
    },
    {
     "data": {
      "text/plain": [
       "'200 OK'"
      ]
     },
     "execution_count": 28,
     "metadata": {},
     "output_type": "execute_result"
    }
   ],
   "source": [
    "c = consumer()\n",
    "c.send(None)\n",
    "print('*************************')\n",
    "c.send('hello')\n",
    "print('*************************')\n",
    "c.send('world')"
   ]
  },
  {
   "cell_type": "code",
   "execution_count": 42,
   "metadata": {
    "collapsed": false
   },
   "outputs": [],
   "source": [
    "def test():\n",
    "    print('NO1')\n",
    "    yield 1      #第一次执行，到这边中断，返回值为1；第二次执行从这边开始，返回值为下一个yield后面的值，所以为2\n",
    "    print('NO2')\n",
    "    yield 2\n",
    "    "
   ]
  },
  {
   "cell_type": "code",
   "execution_count": 43,
   "metadata": {
    "collapsed": false
   },
   "outputs": [
    {
     "name": "stdout",
     "output_type": "stream",
     "text": [
      "NO1\n",
      "1\n",
      "----------\n",
      "NO2\n",
      "2\n"
     ]
    }
   ],
   "source": [
    "t = test()\n",
    "d = next(t)\n",
    "print(d)\n",
    "print('----------')\n",
    "d = next(t)\n",
    "print(d)"
   ]
  },
  {
   "cell_type": "markdown",
   "metadata": {},
   "source": []
  }
 ],
 "metadata": {
  "kernelspec": {
   "display_name": "Python 3",
   "language": "python",
   "name": "python3"
  },
  "language_info": {
   "codemirror_mode": {
    "name": "ipython",
    "version": 3
   },
   "file_extension": ".py",
   "mimetype": "text/x-python",
   "name": "python",
   "nbconvert_exporter": "python",
   "pygments_lexer": "ipython3",
   "version": "3.6.0"
  }
 },
 "nbformat": 4,
 "nbformat_minor": 2
}
